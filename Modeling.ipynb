{
 "cells": [
  {
   "cell_type": "code",
   "execution_count": 15,
   "metadata": {
    "collapsed": true
   },
   "outputs": [],
   "source": [
    "from sklearn.linear_model import LogisticRegression\n",
    "from sklearn.discriminant_analysis import LinearDiscriminantAnalysis\n",
    "from sklearn.preprocessing import LabelEncoder\n",
    "from sklearn.cross_validation import cross_val_score\n",
    "import pandas as pd"
   ]
  },
  {
   "cell_type": "code",
   "execution_count": 10,
   "metadata": {
    "collapsed": false
   },
   "outputs": [],
   "source": [
    "train = pd.read_csv(\"data/train.csv\")\n",
    "test = pd.read_csv(\"data/test.csv\")\n",
    "\n",
    "X_train = train.drop(['Descript','Resolution'], axis=1)\n",
    "y_train = train['Category']"
   ]
  },
  {
   "cell_type": "code",
   "execution_count": 11,
   "metadata": {
    "collapsed": false
   },
   "outputs": [],
   "source": [
    "dates = X_train['Dates']\n",
    "X_train['Dates'] = pd.to_datetime(dates,infer_datetime_format=True)\n",
    "X_train['Year'] = X_train['Dates'].map(lambda x: x.year)\n",
    "X_train['Month'] = X_train['Dates'].map(lambda x: x.month)\n",
    "X_train['Day'] = X_train['Dates'].map(lambda x: x.day)\n",
    "X_train['Hour'] = X_train['Dates'].map(lambda x: x.hour)"
   ]
  },
  {
   "cell_type": "markdown",
   "metadata": {},
   "source": [
    "## Several address don't have the correct latitude and longitude, need to impute them based on address"
   ]
  },
  {
   "cell_type": "code",
   "execution_count": null,
   "metadata": {
    "collapsed": true
   },
   "outputs": [],
   "source": [
    "## TO DO"
   ]
  },
  {
   "cell_type": "markdown",
   "metadata": {},
   "source": [
    "## Encoding categorical variables (We can also create dummy variables instead of encoding)"
   ]
  },
  {
   "cell_type": "code",
   "execution_count": 12,
   "metadata": {
    "collapsed": true
   },
   "outputs": [],
   "source": [
    "le = LabelEncoder()\n",
    "le.fit(X_train['Address'])\n",
    "X_train['Address'] = le.transform(X_train['Address'])\n",
    "\n",
    "le.fit(X_train['PdDistrict'])\n",
    "X_train['PdDistrict'] = le.transform(X_train['PdDistrict'])\n",
    "\n",
    "le = LabelEncoder()\n",
    "le.fit(X_train['DayOfWeek'])\n",
    "X_train['DayOfWeek'] = le.transform(X_train['DayOfWeek'])\n",
    "\n",
    "le.fit(X_train['Category'])\n",
    "X_train['Category'] = le.transform(X_train['Category'])"
   ]
  },
  {
   "cell_type": "markdown",
   "metadata": {},
   "source": [
    "## Use Logistic Regression as baseline (the result is not satisfying)"
   ]
  },
  {
   "cell_type": "code",
   "execution_count": 17,
   "metadata": {
    "collapsed": false,
    "scrolled": true
   },
   "outputs": [
    {
     "name": "stdout",
     "output_type": "stream",
     "text": [
      "0.794631051342\n"
     ]
    }
   ],
   "source": [
    "algo = LogisticRegression()\n",
    "features = X_train.drop(['Category', 'Dates'], axis = 1) # drop dates for now\n",
    "response = X_train['Category']\n",
    "algo.fit(features, response)\n",
    "misclass_rate = 1 - algo.score(features, response) # print misclassification rate\n",
    "print misclass_rate"
   ]
  },
  {
   "cell_type": "code",
   "execution_count": 16,
   "metadata": {
    "collapsed": false
   },
   "outputs": [
    {
     "name": "stdout",
     "output_type": "stream",
     "text": [
      "[ 0.20405946  0.20385676  0.20410771]\n"
     ]
    }
   ],
   "source": [
    "print cross_val_score(algo, features, response, n_jobs=4) # cross validation score"
   ]
  }
 ],
 "metadata": {
  "kernelspec": {
   "display_name": "Python [conda root]",
   "language": "python",
   "name": "conda-root-py"
  },
  "language_info": {
   "codemirror_mode": {
    "name": "ipython",
    "version": 2
   },
   "file_extension": ".py",
   "mimetype": "text/x-python",
   "name": "python",
   "nbconvert_exporter": "python",
   "pygments_lexer": "ipython2",
   "version": "2.7.12"
  }
 },
 "nbformat": 4,
 "nbformat_minor": 1
}
